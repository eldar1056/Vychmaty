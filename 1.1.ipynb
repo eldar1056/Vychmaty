{
 "cells": [
  {
   "cell_type": "markdown",
   "id": "7950eb3c",
   "metadata": {},
   "source": [
    "# Упражнение 1 - Numpy"
   ]
  },
  {
   "cell_type": "code",
   "execution_count": 3,
   "id": "ca69d975",
   "metadata": {},
   "outputs": [],
   "source": [
    "import numpy as np"
   ]
  },
  {
   "cell_type": "markdown",
   "id": "4b748602",
   "metadata": {},
   "source": [
    "1. Пусть у двух матриц совпадает количество строк. Объедините их в одну горизонтально (объедините столбцы этих матриц)"
   ]
  },
  {
   "cell_type": "code",
   "execution_count": 6,
   "id": "4a4c180b",
   "metadata": {},
   "outputs": [
    {
     "data": {
      "text/plain": [
       "array([[ 1,  2,  3,  2,  4,  6],\n",
       "       [ 4,  5,  6,  8, 10, 12]])"
      ]
     },
     "execution_count": 6,
     "metadata": {},
     "output_type": "execute_result"
    }
   ],
   "source": [
    "A1 = np.array([[1, 2, 3], [4, 5, 6]])\n",
    "A2 = np.array([[2, 4, 6], [8, 10, 12]])\n",
    "\n",
    "np.concatenate((A1, A2), axis=1)"
   ]
  },
  {
   "cell_type": "markdown",
   "id": "f6cdc953",
   "metadata": {},
   "source": [
    "2. Пусть дана numpy-матрица $M$ и два массива индексов $a, b$ одинаковой длины. Постройте массив элементов $M[a[0], b[0]], M[[a[1], b[1]]], ... $ Указание: для выполнения этой операции не требуется никаких именных функций."
   ]
  },
  {
   "cell_type": "code",
   "execution_count": 111,
   "id": "cc357d9e",
   "metadata": {},
   "outputs": [
    {
     "data": {
      "text/plain": [
       "array([6., 1., 7., 5.])"
      ]
     },
     "execution_count": 111,
     "metadata": {},
     "output_type": "execute_result"
    }
   ],
   "source": [
    "M = np.array([[1, 2, 3],\n",
    "              [4, 5, 6],\n",
    "              [7, 8, 9]])\n",
    "\n",
    "a = np.array([1, 0, 2, 1])\n",
    "b = np.array([2, 0, 0, 1])\n",
    "\n",
    "result = np.empty(4)\n",
    "\n",
    "for i in range(len(a)):\n",
    "    result[i] = M[a[i], b[i]]\n",
    "\n",
    "result"
   ]
  },
  {
   "cell_type": "markdown",
   "id": "8b83ac4f",
   "metadata": {},
   "source": [
    "3. Подсчитайте след матрицы и количество ненулевых элементов на ее диагонали"
   ]
  },
  {
   "cell_type": "code",
   "execution_count": 42,
   "id": "346b57ae",
   "metadata": {},
   "outputs": [
    {
     "name": "stdout",
     "output_type": "stream",
     "text": [
      "15\n"
     ]
    },
    {
     "data": {
      "text/plain": [
       "3"
      ]
     },
     "execution_count": 42,
     "metadata": {},
     "output_type": "execute_result"
    }
   ],
   "source": [
    "print(np.trace(M))\n",
    "\n",
    "np.count_nonzero(np.diagonal(M))"
   ]
  },
  {
   "cell_type": "markdown",
   "id": "985cee31",
   "metadata": {},
   "source": [
    "4. Даны два произвольных numpy-массива одинаковой размерности $(n, m)$. Замените нулями те элементы второго массива, для которых на соответствующем месте в первом массиве находятся отрицательные числа"
   ]
  },
  {
   "cell_type": "code",
   "execution_count": 141,
   "id": "c50a2f1b",
   "metadata": {},
   "outputs": [
    {
     "name": "stdout",
     "output_type": "stream",
     "text": [
      "[[[-7. -1. -2.]\n",
      "  [ 1.  3.  2.]]\n",
      "\n",
      " [[-7.  4.  7.]\n",
      "  [-5.  2. -6.]]]\n"
     ]
    },
    {
     "data": {
      "text/plain": [
       "array([[[-7., -1., -2.],\n",
       "        [ 1.,  3.,  2.]],\n",
       "\n",
       "       [[ 0.,  0.,  0.],\n",
       "        [-5.,  2., -6.]]])"
      ]
     },
     "execution_count": 141,
     "metadata": {},
     "output_type": "execute_result"
    }
   ],
   "source": [
    "size = (2, 3)\n",
    "\n",
    "rand_arr = lambda: np.random.randint(-10, 10, size)\n",
    "arrays = np.empty((2,)+size)\n",
    "\n",
    "for i in range(2):\n",
    "    arrays[i] = rand_arr()\n",
    "print(arrays)\n",
    "\n",
    "it = np.nditer(np.empty(size), flags=['multi_index'])\n",
    "\n",
    "for a in it:\n",
    "    if arrays[(0,)+it.multi_index] < 0:\n",
    "        arrays[(1,)+it.multi_index] = 0\n",
    "\n",
    "arrays"
   ]
  },
  {
   "cell_type": "markdown",
   "id": "462c1a13",
   "metadata": {},
   "source": [
    "5. Даны две матрицы с одинаковым количеством строк и количеством столбцов $n$ и $m$ соответственно. Постройте матрицу $m \\times m$\n",
    " всевозможных произведений столбцов друг на друга (в смысле скалярного произведения)."
   ]
  },
  {
   "cell_type": "code",
   "execution_count": 142,
   "id": "d64a3d7b",
   "metadata": {},
   "outputs": [
    {
     "name": "stdout",
     "output_type": "stream",
     "text": [
      "[[[-7. -1. -2.]\n",
      "  [ 1.  3.  2.]]\n",
      "\n",
      " [[ 0.  0.  0.]\n",
      "  [-5.  2. -6.]]]\n"
     ]
    },
    {
     "data": {
      "text/plain": [
       "array([[ -5.,   2.,  -6.],\n",
       "       [-15.,   6., -18.],\n",
       "       [-10.,   4., -12.]])"
      ]
     },
     "execution_count": 142,
     "metadata": {},
     "output_type": "execute_result"
    }
   ],
   "source": [
    "print(arrays)\n",
    "\n",
    "products = np.empty((size[1], size[1]))\n",
    "\n",
    "with np.nditer(products, flags=['multi_index'], op_flags=['readwrite']) as it:\n",
    "    for value in it:\n",
    "        value[...] = np.dot(arrays[0, :, it.multi_index[0]], arrays[1, :, it.multi_index[1]])\n",
    "    \n",
    "products"
   ]
  },
  {
   "cell_type": "markdown",
   "id": "8a191962",
   "metadata": {},
   "source": [
    "# Упражнение 2 - Matplotlib"
   ]
  },
  {
   "cell_type": "markdown",
   "id": "805447b6",
   "metadata": {},
   "source": [
    "1. Постройте таблицу $2 \\times 2$ из четырех графиков (см. функцию plt.subplots)"
   ]
  },
  {
   "cell_type": "code",
   "execution_count": 145,
   "id": "6618bf79",
   "metadata": {},
   "outputs": [],
   "source": [
    "import matplotlib.pyplot as plt"
   ]
  },
  {
   "cell_type": "code",
   "execution_count": 176,
   "id": "faef720c",
   "metadata": {},
   "outputs": [
    {
     "data": {
      "image/png": "[encoded data removed]",
      "text/plain": [
       "<Figure size 640x480 with 4 Axes>"
      ]
     },
     "metadata": {},
     "output_type": "display_data"
    }
   ],
   "source": [
    "x = np.array([1, 10])\n",
    "y = np.array([1, 10])\n",
    "\n",
    "fig, axs = plt.subplots(2, 2)\n",
    "\n",
    "for i in range(2):\n",
    "    for j in range(2):\n",
    "        axs[i, j].plot(x, y)"
   ]
  },
  {
   "cell_type": "markdown",
   "id": "547f4a7f",
   "metadata": {},
   "source": [
    "2. Постройте график с крестами ошибок"
   ]
  },
  {
   "cell_type": "code",
   "execution_count": 178,
   "id": "4817a369",
   "metadata": {},
   "outputs": [
    {
     "data": {
      "text/plain": [
       "<ErrorbarContainer object of 3 artists>"
      ]
     },
     "execution_count": 178,
     "metadata": {},
     "output_type": "execute_result"
    },
    {
     "data": {
      "image/png": "[encoded data removed]",
      "text/plain": [
       "<Figure size 640x480 with 1 Axes>"
      ]
     },
     "metadata": {},
     "output_type": "display_data"
    }
   ],
   "source": [
    "plt.errorbar(x, y, 0.5, 0.5)"
   ]
  },
  {
   "cell_type": "code",
   "execution_count": 185,
   "id": "3d7e4a32",
   "metadata": {},
   "outputs": [
    {
     "data": {
      "text/plain": [
       "[<matplotlib.lines.Line2D at 0x1df9cfa8150>]"
      ]
     },
     "execution_count": 185,
     "metadata": {},
     "output_type": "execute_result"
    },
    {
     "data": {
      "image/png": "[encoded data removed]",
      "text/plain": [
       "<Figure size 640x480 with 1 Axes>"
      ]
     },
     "metadata": {},
     "output_type": "display_data"
    }
   ],
   "source": [
    "plt.loglog(x, y)"
   ]
  },
  {
   "cell_type": "markdown",
   "id": "9ead2dd5",
   "metadata": {},
   "source": [
    "# Упражнение 3 - Погрешности"
   ]
  },
  {
   "cell_type": "markdown",
   "id": "c12ef3d1",
   "metadata": {},
   "source": [
    "1. Оценить погрешность в определении корней уравнения $ay^3 + d = 0$, если величины $a = 1$ и $d = 8$ заданы с точностью $\\Delta(a) = 10^{-3}$ и $\\Delta(d) = 10^{-3}$"
   ]
  },
  {
   "cell_type": "markdown",
   "id": "861c56f4",
   "metadata": {},
   "source": [
    "\\begin{split}\n",
    "\\begin{equation}\n",
    "    y^3 = -\\frac{d}{a}\\\\\n",
    "    \\sigma\\left(y^3\\right) = \\sigma(d) + \\sigma(a)\\\\\n",
    "    \\sigma(y) = \\frac{1}{3} \\sigma\\left(y^3\\right)\\\\\n",
    "    \\sigma(y) = \\frac{1}{3} \\left(\\frac{10^{-3}}{1} + \\frac{10^{-3}}{8}\\right) = \\frac{3}{8} * 10^{-3}\\\\\n",
    "    \\Delta(y) = \\left| \\sigma (y) \\sqrt[3]{-\\frac{1}{8}} \\right| = \\frac{3}{16} * 10^{-3} = 0.1875 * 10^{-3}\n",
    "\\end{equation}\n",
    "\\end{split}"
   ]
  },
  {
   "cell_type": "markdown",
   "id": "37c9e058",
   "metadata": {},
   "source": [
    "2. Определить оптимальный шаг численного дифференцирования $h_{opt}$ при использовании для вычисления производной приближенной формулы\n",
    "\n",
    "\\begin{equation}\n",
    "    u'x \\approx \\frac{u(x-2h) - 8u(x - h) + 8u(x + h) - u(x + 2h)}{12h},\n",
    "\\end{equation}\n",
    "\n",
    "Какой порядок аппроксимации имеет эта формула? Известно, что, $\\left|u^{(5)}(t)\\right| \\leq M_5$\n",
    ", а значения функций вычисляются с точностью $\\Delta u$."
   ]
  },
  {
   "cell_type": "markdown",
   "id": "852d6bfe",
   "metadata": {},
   "source": [
    "\\begin{split}\n",
    "\\begin{equation}\n",
    "    \\frac{u(x-2h) - 8u(x - h) + 8u(x + h) - u(x + 2h)}{12h} = \\\\\n",
    "    = \\frac{u(x) -2hu'(x) + 4h^2u''(x) - 8u(x) + 8hu'(x) - 8h^2u''(x) + 8u(x) + 8hu'(x) + 8h^2u''(x) - u(x) - 2hu'(x) - 4h^2u''(x)}{12h} +\\\\\n",
    "    + \\frac{-8h^3u'''(x) +16h^4u^{(4)} -32h^5u^{(5)} + 8h^3u'''(x) - 8h^4u^{(4)} + 8h^5u^{(5)} + 8h^3u'''(x) + 8h^4u^{(4)} + 8h^5u^{(5)} - 8h^3u'''(x) - 16h^4u^{(4)} - 32h^5u^{(5)} + O(h^6)}{12h}\\\\\n",
    "    = u'(x) - 4h^4u^{(5)} + O(h^5) - 4 \\, порядок \\, аппроксимации\n",
    "\\end{equation}\n",
    "\\end{split}"
   ]
  },
  {
   "cell_type": "markdown",
   "id": "7e515003",
   "metadata": {},
   "source": [
    "$\\Delta_{method} = 4h^4u^{(5)} = 4M_5h^4; \\; \\Delta_{round} = \\frac{3}{2}\\frac{\\Delta u}{h}; \\; \\Delta = 4M_5h^4 + \\frac{3}{2}\\frac{\\Delta u}{h}$"
   ]
  },
  {
   "cell_type": "markdown",
   "id": "c0c426ae",
   "metadata": {},
   "source": [
    "\\begin{split}\n",
    "\\begin{equation}\n",
    "    \\frac{\\partial{\\Delta}}{\\partial{h}} = 16 M_5 h^3 - \\frac{3}{2} \\frac{\\Delta u}{h^2} = 0\\\\\n",
    "    h_{opt} = \\frac{1}{2}\\sqrt[5]{\\frac{3\\Delta u}{M_5}}\\\\\n",
    "    \\Delta(h_{opt}) = \\frac{1}{4}\\sqrt[5]{3\\Delta u M_5^{\\frac{1}{4}}} + \\sqrt[5]{(3\\Delta u)^4 M_5}\n",
    "\\end{equation}\n",
    "\\end{split}"
   ]
  },
  {
   "cell_type": "markdown",
   "id": "8a736817",
   "metadata": {},
   "source": [
    "# Упражнение 4 - Погрешность определения корня уравнения"
   ]
  },
  {
   "cell_type": "markdown",
   "id": "4faaf3b9",
   "metadata": {},
   "source": [
    "С каким числом верных знаков (или относительной погрешностью) должен быть известен свободный член в уравнении $x^2 - 2x + 0.999993751 = 0$, чтобы корни имели четыре верных знака?"
   ]
  },
  {
   "cell_type": "markdown",
   "id": "9c348ffa",
   "metadata": {},
   "source": [
    "\\begin{split}\n",
    "\\begin{equation}\n",
    "    x = 1 \\pm \\sqrt{1 - a}; \\; a = 0.999993751\\\\\n",
    "    \\sigma(x) < 5 * 10^{-4}\\\\\n",
    "\\end{equation}\n",
    "\\end{split}"
   ]
  },
  {
   "cell_type": "markdown",
   "id": "f1081546",
   "metadata": {},
   "source": [
    "\\begin{split}\n",
    "\\begin{equation}\n",
    "    \\sigma(x) = \\frac{\\Delta\\left(\\sqrt{1-a} \\,\\right)}{1 \\pm \\sqrt{1-a}} = \n",
    "    \\frac{\\sigma\\left(\\sqrt{1-a} \\,\\right) \\,  \\sqrt{1-a}}{1 \\pm \\sqrt{1-a}} = \n",
    "    \\frac{\\frac{1}{2}\\sigma\\left(1-a \\,\\right) \\,  \\sqrt{1-a}}{1 \\pm \\sqrt{1-a}} = \n",
    "    \\frac{\\frac{1}{2}\\frac{\\Delta a}{1-a} \\,  \\sqrt{1-a}}{1 \\pm \\sqrt{1-a}} =\n",
    "    \\frac{\\Delta a}{2\\left(\\sqrt{1 - a} \\pm (1-a)\\right)}\\\\\n",
    "    \\Delta a = min\\{2(\\sqrt{1-a} \\pm (1-a))\\sigma (x)\\} = \n",
    "    2(\\sqrt{1-a} - (1-a))\\sigma (x) \\approx 2.5 * 10^{-6}\\\\\n",
    "    \\sigma(a) = \\frac{\\Delta a}{a} \\approx 2.5 * 10^{-6}\n",
    "\\end{equation}\n",
    "\\end{split}"
   ]
  },
  {
   "cell_type": "markdown",
   "id": "93116ec2",
   "metadata": {},
   "source": [
    "# Упражнение 5 - Рост погрешности в последовательности"
   ]
  },
  {
   "cell_type": "markdown",
   "id": "98139d5b",
   "metadata": {},
   "source": [
    "Пусть задана последовательность чисел $x_n, n \\in \\mathbb{N}_0$, причем $5x_{n+1} - x_n = 4$, а $x_0$ известно с относительной погрешностью $10^{-6}$. При каких значениях $x_0$ относительная погрешность при вычислении $x_n$ будет быстро возрастать с ростом n?"
   ]
  },
  {
   "cell_type": "markdown",
   "id": "916a7e04",
   "metadata": {},
   "source": [
    "\\begin{split}\n",
    "\\begin{equation}\n",
    "    x_{n+1} = \\frac{4 + x_n}{5}\\\\\n",
    "    \\Delta x_{n+1} = \\frac{\\Delta x_n}{5}\\\\\n",
    "    \\sigma (x_{n+1}) = \\frac{\\Delta x_n}{5|x_{n+1}|} = \\sigma(x_n) \\left|\\frac{x_n}{5 x_{n+1}}\\right| =\n",
    "    \\sigma(x_n) \\left|\\frac{x_n}{4 + x_n}\\right| = \\frac{\\sigma(x_n)}{\\left|1 + \\frac{4}{x_n}\\right|} < \\sigma(x_n)\\\\\n",
    "    \\left|1 + \\frac{4}{x_n}\\right| < 1\n",
    "\\end{equation}\n",
    "\\end{split}"
   ]
  },
  {
   "cell_type": "markdown",
   "id": "de91ad2f",
   "metadata": {},
   "source": [
    "$$\n",
    "\\frac{1}{\\left|1 + \\frac{4}{x_n}\\right|} \\gg 1 \\Leftrightarrow \\left|1 + \\frac{4}{x_n}\\right| \\ll 1 \n",
    "\\Leftrightarrow 1 - \\frac{4}{|x_n|} \\ll 0, \\, x_n < 0 \\Leftrightarrow x_n \\approx -4 \\\\\n",
    "x_0 = -4 + \\varepsilon; \\; x_1 = \\frac{\\varepsilon}{5}; \\; \\sigma(x_1) = \\left|1 - \\frac{4}{\\varepsilon}\\right|\\sigma(x_0) \\gg 1\\\\\n",
    "x_2 = \\frac{20 + \\varepsilon}{25}; \\; \\sigma(x_2) = \\frac{\\sigma(x_1)}{\\left|1 + \\frac{4}{x_1}\\right|} = \\left|1 - \\frac{16}{\\varepsilon +20}\\right| \\approx 0.2\\\\\n",
    "x_3 = \\frac{120 + \\epsilon}{125} \\approx 1; \\; \\sigma(x_3) = \\left|1 - \\frac{1}{121 + \\varepsilon}\\right| \\approx 1\n",
    "$$"
   ]
  },
  {
   "cell_type": "markdown",
   "id": "524100ef",
   "metadata": {},
   "source": [
    "для $n > 3: x_n \\approx 1; \\; \\sigma(x_n) \\approx \\frac{1}{5^{n-3}}$"
   ]
  },
  {
   "cell_type": "code",
   "execution_count": null,
   "id": "76b055af",
   "metadata": {},
   "outputs": [],
   "source": []
  }
 ],
 "metadata": {
  "kernelspec": {
   "display_name": "Python 3 (ipykernel)",
   "language": "python",
   "name": "python3"
  },
  "language_info": {
   "codemirror_mode": {
    "name": "ipython",
    "version": 3
   },
   "file_extension": ".py",
   "mimetype": "text/x-python",
   "name": "python",
   "nbconvert_exporter": "python",
   "pygments_lexer": "ipython3",
   "version": "3.11.5"
  }
 },
 "nbformat": 4,
 "nbformat_minor": 5
}
