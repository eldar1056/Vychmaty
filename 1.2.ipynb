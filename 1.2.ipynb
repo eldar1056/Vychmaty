{
 "cells": [
  {
   "cell_type": "markdown",
   "id": "e690b678",
   "metadata": {},
   "source": [
    "**Задание 1. Генератор случайных матриц.**"
   ]
  },
  {
   "cell_type": "markdown",
   "id": "cd9fe3cb",
   "metadata": {},
   "source": [
    "Реализовать генератор матриц, который должен поддерживать функции:\n",
    "\n",
    "Генерация абсолютно случайной матрицы $n \\times m$\n",
    "\n",
    "Генерация случайной диагональной матрицы $n \\times n$\n",
    "\n",
    "Генерация случайной верхнетреугольной матрицы\n",
    "\n",
    "Генерация случайной нижнетреугольной матрицы\n",
    "\n",
    "Генерация симметричной матрицы\n",
    "\n",
    "Генерация вырожденной матрицы\n",
    "\n",
    "Генерация матрицы ступенчатого вида $n \\times n$ ранга $m$ \n",
    "\n",
    "Генерация возмущения матрицы $n \\times m$, каждый элемент которой не превосходит по модулю заданный $\\varepsilon$.\n",
    "Оценить величину нормы матрицы возмущений в зависимости от параметра $\\varepsilon$ (оценить верхную границу).\n",
    "\n",
    "Оценить численно вероятность того, что созданная матрица будет вырожденной для какого-либо случая выше."
   ]
  },
  {
   "cell_type": "code",
   "execution_count": 300,
   "id": "fbdf047c",
   "metadata": {},
   "outputs": [],
   "source": [
    "# Реализую произвольную m,n, верхнетреугольную и симметричную. Остальное на вас - вам нужно дописать функцию.\n",
    "# Не забудьте откомментировать ваши изменения в документации к функции!\n",
    "\n",
    "import numpy as np\n",
    "\n",
    "def matrix_generate(rows, columns=None, type_ = \"full\", eps = 0):\n",
    "    \"\"\"\n",
    "    matrix_generate(rows, columns=None, type_ = \"full\", eps = 0)\n",
    "\n",
    "    Создаёт случайную матрицу выбранного типа.\n",
    "\n",
    "    Если матрицу нужных размеров создать нельзя должен выдать\n",
    "    строку f\"Error with type {type_} and shape ({rows},{columns})\".\n",
    "\n",
    "    Parameters\n",
    "    ----------\n",
    "\n",
    "    rows : int\n",
    "        Количество строк в создаваемой матрице.\n",
    "    columns : int\n",
    "        Количество столбцов в создаваемой матрице. Если None, то columns = rows.\n",
    "    type_ : str, optional\n",
    "        Тип создаваемой матрицы: \"full\", \"upper_triangular\", \"lower_triangular\" \"symmetric\", \"diagonal\", \n",
    "                                 \"singular\", \"staircase\", \"perturbation\"\n",
    "    eps: float, optional\n",
    "        Дополнительное число, использующееся при генерации для некоторых типов матриц. Для \"staircase\" - ранг матрицы.\n",
    "        Для \"perturbation\" - число ограничивающее модуль элементов матрицы.\n",
    "\n",
    "    Returns\n",
    "    -------\n",
    "    out : ndarray or str\n",
    "        Выдаёт матрицу нужного типа либо ошибку.\n",
    "\n",
    "    Notes\n",
    "    -----\n",
    "    Поддерживаемые типы матриц:\n",
    "        \"full\", \"upper_triangular\", \"lower_triangular\" \"symmetric\", \"diagonal\", \n",
    "        \"singular\", \"staircase\", \"perturbation\"\n",
    "\n",
    "\n",
    "    \"\"\"\n",
    "    if columns == None:\n",
    "        columns = rows\n",
    "    \n",
    "    if type_ in (\"diagonal\", \"symmetric\", \"singular\", \"staircase\"):\n",
    "        if rows != columns:\n",
    "            print(f\"Error with type {type_} and shape ({rows},{columns})\")\n",
    "            return None\n",
    "    \n",
    "    if type_ == \"perturbation\":\n",
    "        return np.random.uniform(-abs(eps), abs(eps), size=(rows, columns))\n",
    "    \n",
    "    A = np.random.random(size=(rows, columns))\n",
    "    \n",
    "    if type_ == \"upper_triangular\":\n",
    "        A[np.tril_indices(rows, -1, columns)] = 0\n",
    "    elif type_ == \"lower_triangular\":\n",
    "        A[np.triu_indices(rows, 1, columns)] = 0\n",
    "    elif type_ == \"symmetric\":\n",
    "        A[np.triu_indices(rows, 1, columns)] = 0\n",
    "        A = A + A.T - np.diag(np.diag(A))\n",
    "    elif type_ == \"diagonal\":\n",
    "        A = np.diag(np.diag(A))\n",
    "    elif type_ == \"singular\":\n",
    "        \n",
    "        if rows == 1:\n",
    "            return np.array([0])\n",
    "        \n",
    "        det = np.linalg.det(A)\n",
    "        \n",
    "        if det != 0:\n",
    "            for i in range(rows):\n",
    "                col_mask = np.ones(rows, dtype=bool)\n",
    "                col_mask[i] = False\n",
    "\n",
    "                sub_det = np.linalg.det(A[1:, col_mask])\n",
    "\n",
    "                if sub_det != 0:\n",
    "                    A[0, 0] -= (det / sub_det)\n",
    "                    break\n",
    "    \n",
    "    elif type_ == \"staircase\":\n",
    "        diff = rows - eps\n",
    "        \n",
    "        if diff < 0:\n",
    "            print(f\"Error with type {type_}. eps > rows\")\n",
    "            return None\n",
    "        \n",
    "        steps = np.ones(rows)\n",
    "        steps[0] = 0\n",
    "        \n",
    "        for i in range(diff):\n",
    "            steps[np.random.randint(0, rows)] += 1\n",
    "            \n",
    "        mask = np.ones((rows, rows), dtype=bool)\n",
    "        current_column = 0\n",
    "        for i in range(eps):\n",
    "            current_column += steps[i]\n",
    "            mask[i, int(current_column):] = False\n",
    "        \n",
    "        A[mask] = 0\n",
    "\n",
    "    elif type_ != \"full\":\n",
    "        print(f\"Error: unknown type {type_}\")\n",
    "        return None\n",
    "    \n",
    "    return A"
   ]
  },
  {
   "cell_type": "code",
   "execution_count": 301,
   "id": "c3d6a94d",
   "metadata": {},
   "outputs": [
    {
     "data": {
      "text/plain": [
       "array([[0.80030466, 0.69912076, 0.67423998]])"
      ]
     },
     "execution_count": 301,
     "metadata": {},
     "output_type": "execute_result"
    }
   ],
   "source": [
    "matrix_generate(1, 3)"
   ]
  },
  {
   "cell_type": "code",
   "execution_count": 302,
   "id": "ebea5f99",
   "metadata": {},
   "outputs": [
    {
     "data": {
      "text/plain": [
       "array([[0.07822881, 0.48847665, 0.24634217, 0.39751452],\n",
       "       [0.        , 0.53828782, 0.60740314, 0.12967995],\n",
       "       [0.        , 0.        , 0.19475333, 0.96702993],\n",
       "       [0.        , 0.        , 0.        , 0.21627007]])"
      ]
     },
     "execution_count": 302,
     "metadata": {},
     "output_type": "execute_result"
    }
   ],
   "source": [
    "matrix_generate(4, 4, type_ = \"upper_triangular\")"
   ]
  },
  {
   "cell_type": "code",
   "execution_count": 303,
   "id": "2acc10c7",
   "metadata": {},
   "outputs": [
    {
     "data": {
      "text/plain": [
       "array([[0.21496196, 0.78751696, 0.82103613],\n",
       "       [0.        , 0.10417638, 0.3523525 ],\n",
       "       [0.        , 0.        , 0.24402457],\n",
       "       [0.        , 0.        , 0.        ]])"
      ]
     },
     "execution_count": 303,
     "metadata": {},
     "output_type": "execute_result"
    }
   ],
   "source": [
    "matrix_generate(4, 3, type_ = \"upper_triangular\")"
   ]
  },
  {
   "cell_type": "code",
   "execution_count": 304,
   "id": "1faeb392",
   "metadata": {},
   "outputs": [
    {
     "data": {
      "text/plain": [
       "array([[0.56248162, 0.30179052, 0.84941903, 0.2451779 ],\n",
       "       [0.30179052, 0.80290269, 0.09360371, 0.5415165 ],\n",
       "       [0.84941903, 0.09360371, 0.85698612, 0.58023571],\n",
       "       [0.2451779 , 0.5415165 , 0.58023571, 0.79062006]])"
      ]
     },
     "execution_count": 304,
     "metadata": {},
     "output_type": "execute_result"
    }
   ],
   "source": [
    "matrix_generate(4, 4, type_ = \"symmetric\")"
   ]
  },
  {
   "cell_type": "code",
   "execution_count": 305,
   "id": "26f88e9e",
   "metadata": {},
   "outputs": [
    {
     "name": "stdout",
     "output_type": "stream",
     "text": [
      "Error with type symmetric and shape (4,1)\n"
     ]
    }
   ],
   "source": [
    "matrix_generate(4, 1, type_ = \"symmetric\")"
   ]
  },
  {
   "cell_type": "markdown",
   "id": "5e064cf3",
   "metadata": {},
   "source": [
    "$$\n",
    "\\|A\\|_\\infty = \\max\\limits_i\\sum\\limits_j |a_{ij}|; \\; \\|A\\|_1 = \\max\\limits_j\\sum\\limits_i |a_{ij}|; \\;\n",
    "\\|A\\|_e = \\sqrt{\\lambda_{max}\\left(A^TA\\right)}; \\ \\|A\\|_F = \\sqrt{\\sum\\limits_{i=1}^{n}\\sum\\limits_{j=1}^{n}|a_{ij}|^2}\n",
    "$$"
   ]
  },
  {
   "cell_type": "markdown",
   "id": "05f0ef11",
   "metadata": {},
   "source": [
    "Для матрицы возмущения $P(\\varepsilon):$\n",
    "$$\n",
    "\\|P\\|_\\infty \\leq m \\, \\varepsilon; \\;\n",
    "\\|P\\|_1 \\leq n \\, \\varepsilon; \\;\n",
    "\\|P\\|_e \\leq \\varepsilon; \\;\n",
    "\\|P\\|_F \\leq \\sqrt{nm} \\, \\varepsilon\n",
    "$$"
   ]
  },
  {
   "cell_type": "code",
   "execution_count": 682,
   "id": "2e8502c0",
   "metadata": {},
   "outputs": [],
   "source": [
    "def singularity_probability(rows, columns=None, type_=\"full\", eps=0, n=1000000):\n",
    "    n_singular = 0\n",
    "    \n",
    "    for _ in range(n):\n",
    "        mrx = matrix_generate(rows, columns, type_, eps)\n",
    "        if (abs(np.linalg.det(mrx)) < rows**2*10**-7):\n",
    "            n_singular += 1\n",
    "    \n",
    "    return n_singular/n\n",
    "    "
   ]
  },
  {
   "cell_type": "code",
   "execution_count": 684,
   "id": "85e7b4a1",
   "metadata": {},
   "outputs": [],
   "source": [
    "size = 15\n",
    "step = 1\n",
    "start = 50\n",
    "\n",
    "x = np.zeros(int(size/step))\n",
    "y = np.zeros(int(size/step))\n",
    "\n",
    "idx = 0\n",
    "\n",
    "for i in range(start, size+start, step):\n",
    "    x[idx] = i\n",
    "    y[idx] = singularity_probability(i, i, \"singular\", 0, 1000)\n",
    "    idx += 1"
   ]
  },
  {
   "cell_type": "code",
   "execution_count": 685,
   "id": "83135e34",
   "metadata": {},
   "outputs": [
    {
     "data": {
      "image/png": "[encoded data removed]",
      "text/plain": [
       "<Figure size 640x480 with 1 Axes>"
      ]
     },
     "metadata": {},
     "output_type": "display_data"
    }
   ],
   "source": [
    "import matplotlib.pyplot as plt\n",
    "\n",
    "plt.plot(x, y)\n",
    "plt.show()"
   ]
  },
  {
   "cell_type": "code",
   "execution_count": 683,
   "id": "eed808bd",
   "metadata": {},
   "outputs": [
    {
     "data": {
      "text/plain": [
       "0.000795"
      ]
     },
     "execution_count": 683,
     "metadata": {},
     "output_type": "execute_result"
    }
   ],
   "source": [
    "singularity_probability(10)"
   ]
  },
  {
   "cell_type": "code",
   "execution_count": 686,
   "id": "eec8b72d",
   "metadata": {},
   "outputs": [
    {
     "data": {
      "text/plain": [
       "0.28733"
      ]
     },
     "execution_count": 686,
     "metadata": {},
     "output_type": "execute_result"
    }
   ],
   "source": [
    "singularity_probability(10, type_=\"upper_triangular\")"
   ]
  },
  {
   "cell_type": "code",
   "execution_count": 687,
   "id": "0c72e5cd",
   "metadata": {},
   "outputs": [
    {
     "data": {
      "text/plain": [
       "0.00072"
      ]
     },
     "execution_count": 687,
     "metadata": {},
     "output_type": "execute_result"
    }
   ],
   "source": [
    "singularity_probability(10, type_=\"symmetric\")"
   ]
  },
  {
   "cell_type": "code",
   "execution_count": 698,
   "id": "a35f8198",
   "metadata": {},
   "outputs": [
    {
     "data": {
      "text/plain": [
       "0.287645"
      ]
     },
     "execution_count": 698,
     "metadata": {},
     "output_type": "execute_result"
    }
   ],
   "source": [
    "singularity_probability(10, type_=\"diagonal\")"
   ]
  },
  {
   "cell_type": "code",
   "execution_count": 690,
   "id": "cd6eee5d",
   "metadata": {},
   "outputs": [
    {
     "data": {
      "text/plain": [
       "1.0"
      ]
     },
     "execution_count": 690,
     "metadata": {},
     "output_type": "execute_result"
    }
   ],
   "source": [
    "singularity_probability(10, type_=\"staircase\", eps=5)"
   ]
  },
  {
   "cell_type": "code",
   "execution_count": 697,
   "id": "264f78e0",
   "metadata": {},
   "outputs": [
    {
     "data": {
      "text/plain": [
       "1.0"
      ]
     },
     "execution_count": 697,
     "metadata": {},
     "output_type": "execute_result"
    }
   ],
   "source": [
    "singularity_probability(10, type_=\"perturbation\", eps=0.0001)"
   ]
  },
  {
   "cell_type": "markdown",
   "id": "7e9d8a06",
   "metadata": {},
   "source": [
    "**Задание 2. Вычисление матричных норм и числа обусловленности.**"
   ]
  },
  {
   "cell_type": "markdown",
   "id": "863af36f",
   "metadata": {},
   "source": [
    "Реализовать вычисление трех основных норм векторов (L1, L2 и максимальную) и подчиненных им матричных норм. Реализовать вычисление числа обусловленности.\n",
    "\n",
    "Примечание: для вычисления собственных значений можно использовать linalg.eigvals из модуля scipy."
   ]
  },
  {
   "cell_type": "markdown",
   "id": "03a2b9e7",
   "metadata": {},
   "source": [
    "$$\n",
    "\\|x\\|_1 = \\sum\\limits_{i=1}^{n} |x_i|; \\; \n",
    "\\|x\\|_2 = \\left({\\sum\\limits_{i=1}^{n} x_i^2}\\right)^{\\frac{1}{2}}; \\; \n",
    "\\|x\\|_\\infty = \\max\\limits_i |x_i|\n",
    "$$"
   ]
  },
  {
   "cell_type": "code",
   "execution_count": 701,
   "id": "e66c4d4d",
   "metadata": {},
   "outputs": [],
   "source": [
    "def L1_norm(v):\n",
    "    return np.sum(np.absolute(v))\n",
    "\n",
    "def L2_norm(v):\n",
    "    return np.sqrt(np.sum(np.square(v)))\n",
    "\n",
    "def L_infty_norm(v):\n",
    "    return np.max(np.absolute(v))"
   ]
  },
  {
   "cell_type": "code",
   "execution_count": 702,
   "id": "59aa4294",
   "metadata": {},
   "outputs": [],
   "source": [
    "v = np.array([1, 2, 3, -5])"
   ]
  },
  {
   "cell_type": "code",
   "execution_count": 703,
   "id": "8017d48d",
   "metadata": {},
   "outputs": [
    {
     "data": {
      "text/plain": [
       "11"
      ]
     },
     "execution_count": 703,
     "metadata": {},
     "output_type": "execute_result"
    }
   ],
   "source": [
    "L1_norm(v)"
   ]
  },
  {
   "cell_type": "code",
   "execution_count": 704,
   "id": "875f8da0",
   "metadata": {},
   "outputs": [
    {
     "data": {
      "text/plain": [
       "6.244997998398398"
      ]
     },
     "execution_count": 704,
     "metadata": {},
     "output_type": "execute_result"
    }
   ],
   "source": [
    "L2_norm(v)"
   ]
  },
  {
   "cell_type": "code",
   "execution_count": 705,
   "id": "af45cab0",
   "metadata": {},
   "outputs": [
    {
     "data": {
      "text/plain": [
       "5"
      ]
     },
     "execution_count": 705,
     "metadata": {},
     "output_type": "execute_result"
    }
   ],
   "source": [
    "L_infty_norm(v)"
   ]
  },
  {
   "cell_type": "markdown",
   "id": "855ae049",
   "metadata": {},
   "source": [
    "$$\n",
    "\\|A\\|_1 = \\max\\limits_j\\sum\\limits_i |a_{ij}|; \\;\n",
    "\\|A\\|_2 = \\sqrt{\\lambda_{max}\\left(A^TA\\right)}; \\; \n",
    "\\|A\\|_\\infty = \\max\\limits_i\\sum\\limits_j |a_{ij}|;\n",
    "$$"
   ]
  },
  {
   "cell_type": "code",
   "execution_count": 765,
   "id": "3884ab59",
   "metadata": {},
   "outputs": [],
   "source": [
    "import scipy\n",
    "\n",
    "def L1_matrix_norm(A):\n",
    "    return np.max(np.sum(np.absolute(A), 0))\n",
    "\n",
    "def L2_matrix_norm(A):\n",
    "    return np.sqrt(np.max(scipy.linalg.eigvals(np.matmul(A, A.T))))\n",
    "\n",
    "def L_infty_matrix_norm(A):\n",
    "    return np.max(np.sum(np.absolute(A), 1))"
   ]
  },
  {
   "cell_type": "code",
   "execution_count": 766,
   "id": "e3aec5aa",
   "metadata": {},
   "outputs": [],
   "source": [
    "A = np.array([[1, 2], \n",
    "              [2, 1]])"
   ]
  },
  {
   "cell_type": "code",
   "execution_count": 767,
   "id": "39c15e3f",
   "metadata": {},
   "outputs": [
    {
     "data": {
      "text/plain": [
       "3"
      ]
     },
     "execution_count": 767,
     "metadata": {},
     "output_type": "execute_result"
    }
   ],
   "source": [
    "L1_matrix_norm(A)"
   ]
  },
  {
   "cell_type": "code",
   "execution_count": 768,
   "id": "7e0c5d95",
   "metadata": {},
   "outputs": [
    {
     "data": {
      "text/plain": [
       "(3+0j)"
      ]
     },
     "execution_count": 768,
     "metadata": {},
     "output_type": "execute_result"
    }
   ],
   "source": [
    "L2_matrix_norm(A)"
   ]
  },
  {
   "cell_type": "code",
   "execution_count": 769,
   "id": "beedf484",
   "metadata": {},
   "outputs": [
    {
     "data": {
      "text/plain": [
       "3"
      ]
     },
     "execution_count": 769,
     "metadata": {},
     "output_type": "execute_result"
    }
   ],
   "source": [
    "L_infty_matrix_norm(A)"
   ]
  },
  {
   "cell_type": "markdown",
   "id": "7e1cffd3",
   "metadata": {},
   "source": [
    "$$\n",
    "\\mu = \\|A\\|*\\|A^{-1}\\|\n",
    "$$"
   ]
  },
  {
   "cell_type": "code",
   "execution_count": 770,
   "id": "3539fa3c",
   "metadata": {},
   "outputs": [],
   "source": [
    "def mu(A, norm):\n",
    "    return norm(A)*norm(scipy.linalg.inv(A))"
   ]
  },
  {
   "cell_type": "code",
   "execution_count": 774,
   "id": "0db6487f",
   "metadata": {},
   "outputs": [
    {
     "name": "stdout",
     "output_type": "stream",
     "text": [
      "[[1 2]\n",
      " [2 1]]\n",
      "[[-0.33333333  0.66666667]\n",
      " [ 0.66666667 -0.33333333]]\n"
     ]
    }
   ],
   "source": [
    "print(A)\n",
    "print(scipy.linalg.inv(A))"
   ]
  },
  {
   "cell_type": "code",
   "execution_count": 772,
   "id": "b55d5f89",
   "metadata": {},
   "outputs": [
    {
     "data": {
      "text/plain": [
       "3.0"
      ]
     },
     "execution_count": 772,
     "metadata": {},
     "output_type": "execute_result"
    }
   ],
   "source": [
    "mu(A, L1_matrix_norm)"
   ]
  },
  {
   "cell_type": "code",
   "execution_count": 775,
   "id": "5d5a7313",
   "metadata": {},
   "outputs": [
    {
     "data": {
      "text/plain": [
       "(3+0j)"
      ]
     },
     "execution_count": 775,
     "metadata": {},
     "output_type": "execute_result"
    }
   ],
   "source": [
    "mu(A, L2_matrix_norm)"
   ]
  },
  {
   "cell_type": "code",
   "execution_count": 777,
   "id": "ee2b9b92",
   "metadata": {},
   "outputs": [
    {
     "data": {
      "text/plain": [
       "3.0"
      ]
     },
     "execution_count": 777,
     "metadata": {},
     "output_type": "execute_result"
    }
   ],
   "source": [
    "mu(A, L_infty_matrix_norm)"
   ]
  },
  {
   "cell_type": "markdown",
   "id": "c22fc9bd",
   "metadata": {},
   "source": [
    "**Задание 3. Эквивалентность первых двух норм.**"
   ]
  },
  {
   "cell_type": "markdown",
   "id": "da3acba4",
   "metadata": {},
   "source": [
    "Найдите константы $C_1$ и $С_2$ такие, что\n",
    "\n",
    "$C_1 ||x||_2 \\leq ||x||_1 \\leq C_2||x||_2 $\n",
    "\n",
    "Указание: в качестве подсказки можно использовать визуализацию норм из документа с теорией."
   ]
  },
  {
   "cell_type": "markdown",
   "id": "0bd497e5",
   "metadata": {},
   "source": [
    "$$\n",
    "\\|x\\|_1 = \\sum\\limits_{i=1}^{n} |x_i|; \\; \n",
    "\\|x\\|_2 = \\left({\\sum\\limits_{i=1}^{n} x_i^2}\\right)^{\\frac{1}{2}}\n",
    "$$"
   ]
  },
  {
   "cell_type": "markdown",
   "id": "45ae77a9",
   "metadata": {},
   "source": [
    "$$\n",
    "\\left(\\sum\\limits_{i=1}^{n} |x_i| \\right)^2 \\geq {\\sum\\limits_{i=1}^{n} x_i^2} \\Rightarrow C_1 = 1\\\\\n",
    "\\forall i, j \\quad x_{max}^2 \\geq x_i x_j \\Rightarrow n^2{\\sum\\limits_{i=1}^{n} x_i^2} \n",
    "\\geq \\sum\\limits_{i=1}^{n}\\sum\\limits_{j=1}^{n} |x_i x_j| = \\left(\\sum\\limits_{i=1}^{n} |x_i| \\right)^2\n",
    "\\Rightarrow  C_2 = n\n",
    "$$"
   ]
  },
  {
   "cell_type": "markdown",
   "id": "7046018e",
   "metadata": {},
   "source": [
    "**Задание 4. Евклидова и бесконечная норма.**"
   ]
  },
  {
   "cell_type": "markdown",
   "id": "9eb11832",
   "metadata": {},
   "source": [
    "Пусть $x$ — вектор размерности $m$, а $A$ — матрица $m \\times n$. Докажите следующие неравенства и приведите примеры таких $x$ и $A$, при которых неравенства обращаются в равенства:\n",
    "$$\n",
    "\\|x\\|_2 \\leq \\sqrt{m} \\cdot \\|x\\|_\\infty \\\\\n",
    "\\|A\\|_\\infty \\leq \\sqrt{n} \\cdot \\|A\\|_2\n",
    "$$"
   ]
  },
  {
   "cell_type": "markdown",
   "id": "1f5bf92b",
   "metadata": {},
   "source": [
    "$$\n",
    "m \\cdot x_{max}^2 \\geq \\sum\\limits_{i=1}^{m} x_i^2 \\Rightarrow \\sqrt{m} \\cdot \\|x\\|_\\infty \\geq \\|x\\|_2\n",
    "\\quad Достигается \\, при \\, x_i = 1\n",
    "$$"
   ]
  },
  {
   "cell_type": "markdown",
   "id": "4ec86df5",
   "metadata": {},
   "source": [
    "$$\n",
    "\\|A\\|_\\infty = \\sup\\limits_{x} \\frac{\\|Ax\\|_\\infty}{\\|x\\|_\\infty} =\n",
    "\\sup\\limits_{x}\\frac{\\max\\limits_i |(Ax)_i|}{\\max\\limits_j |x_j|}\\\\\n",
    "\\|A\\|_2 = \\sup\\limits_x \\frac{\\|Ax\\|_2}{\\|x\\|_2} = \\sup\\limits_x \n",
    "\\left(\\frac{\\sum\\limits_{i=1}^{n} (Ax)_i^2}{\\sum\\limits_{j=1}^{n} x_j^2}\\right)^\\frac{1}{2}\n",
    "$$"
   ]
  },
  {
   "cell_type": "markdown",
   "id": "4d45b9d7",
   "metadata": {},
   "source": [
    "$$\n",
    "\\sum\\limits_{i=1}^n (Ax)_i^2 \\geq \\max\\limits_i (Ax)_i^2; \\quad n \\max\\limits_j x_j^2 \\geq \\sum\\limits_{j=1}^n x_j^2\n",
    "$$"
   ]
  },
  {
   "cell_type": "markdown",
   "id": "aa70776c",
   "metadata": {},
   "source": [
    "$$\n",
    "\\forall x \\quad \\frac{\\sum\\limits_{i=1}^n (Ax)_i^2}{\\sum\\limits_{j=1}^n x_j^2} \\geq \n",
    "\\frac{\\max\\limits_i (Ax)_i^2}{n \\max\\limits_j x_j^2}\n",
    "\\Rightarrow \\sqrt{n}\\|A\\|_2 \\geq \\|A\\|_\\infty\\\\\n",
    "Достигается \\, при \\, A = 1\n",
    "$$"
   ]
  },
  {
   "cell_type": "markdown",
   "id": "c6d355f0",
   "metadata": {},
   "source": [
    "**Задание 5. Норма Фробениуса.**"
   ]
  },
  {
   "cell_type": "markdown",
   "id": "fd3da781",
   "metadata": {},
   "source": [
    "Докажите, что для любой унитарной матрицы $U$ (и для произвольной матрицы $A$) имеет место равенство\n",
    "\n",
    "$$\n",
    "\\|UA\\|_F = \\|AU\\|_F = \\|A\\|_F, \\\\\n",
    "где \\, \\|\\cdot\\|_F \\,- норма \\, Фробениуса.\n",
    "$$\n",
    "\n",
    "Указание.\n",
    "\n",
    "Задачу можно решить без вычислений, если использовать геометрический смысл нормы Фробениуса и геометрические свойства умножения на унитарную матрицу (что при умножении на неё сохраняется)."
   ]
  },
  {
   "cell_type": "markdown",
   "id": "a356ab6c",
   "metadata": {},
   "source": [
    "$$\n",
    "\\|A\\|_F^2 = \\sum\\limits_{i=1}^n\\sum\\limits_{j=1}^n |a_{ij}|^2\\\\\n",
    "(A^\\dagger A)_{ij} = \\sum\\limits_{k=1}^n A^\\dagger_{ik}A_{kj} = \\sum\\limits_{k=1}^n a^*_{ki}a_{kj}\\\\\n",
    "tr(A^\\dagger A) = \\sum\\limits_{i=1}^n (A^\\dagger A)_{ii} = \\sum\\limits_{i=1}^n \\sum\\limits_{k=1}^n a^*_{ki}a_{ki} = \n",
    "\\sum\\limits_{i=1}^n \\sum\\limits_{k=1}^n |a_{ki}|^2 = \\|A\\|_F^2\\\\\n",
    "\\|UA\\|_F^2 = tr\\left(\\left(UA\\right)^\\dagger UA\\right) = tr\\left(A^\\dagger U^\\dagger U A \\right) = tr\\left(A^\\dagger A\\right) = \\|A\\|_F^2\\\\\n",
    "\\|AU\\|_F^2 = tr\\left(\\left(AU\\right)^\\dagger AU\\right) = tr\\left(U^\\dagger A^\\dagger A U \\right) = tr\\left(A^\\dagger A U U^\\dagger\\right) =\n",
    "tr\\left(A^\\dagger A\\right) = \\|A\\|_F^2\n",
    "$$"
   ]
  },
  {
   "cell_type": "code",
   "execution_count": null,
   "id": "dac8b207",
   "metadata": {},
   "outputs": [],
   "source": []
  }
 ],
 "metadata": {
  "kernelspec": {
   "display_name": "Python 3 (ipykernel)",
   "language": "python",
   "name": "python3"
  },
  "language_info": {
   "codemirror_mode": {
    "name": "ipython",
    "version": 3
   },
   "file_extension": ".py",
   "mimetype": "text/x-python",
   "name": "python",
   "nbconvert_exporter": "python",
   "pygments_lexer": "ipython3",
   "version": "3.11.5"
  }
 },
 "nbformat": 4,
 "nbformat_minor": 5
}
