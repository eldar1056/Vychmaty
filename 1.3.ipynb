{
 "cells": [
  {
   "cell_type": "markdown",
   "id": "ea52a363",
   "metadata": {},
   "source": [
    "# 1. Базовая задача МНК."
   ]
  },
  {
   "cell_type": "markdown",
   "id": "842122b4",
   "metadata": {},
   "source": [
    "**Теоретический вопрос 1.**"
   ]
  },
  {
   "cell_type": "markdown",
   "id": "847d1cb3",
   "metadata": {},
   "source": [
    "Пусть дана выборка точек $y_i$. Решите аналитически задачу МНК, моделируя данные постоянной величиной $\\check{y}$, что отвечает минимизации функции потерь\n",
    "$$\n",
    "\\newcommand{\\suml}{\\sum\\limits_{i=1}^l}\n",
    "\\mathcal{L} = \\suml (y_i - \\check{y})^2 \\rightarrow \\min\\limits_{\\check{y}}.\n",
    "$$"
   ]
  },
  {
   "cell_type": "markdown",
   "id": "e2263605",
   "metadata": {},
   "source": [
    "$$\n",
    "\\frac{\\partial \\mathcal{L}}{\\partial \\check{y}} = -2 \\suml (y_i - \\check{y}) = 0\n",
    "\\Rightarrow \\check{y} = \\frac{\\suml y_i}{l}\n",
    "$$"
   ]
  },
  {
   "cell_type": "markdown",
   "id": "4d45a833",
   "metadata": {},
   "source": [
    "**Теоретический вопрос 2.**"
   ]
  },
  {
   "cell_type": "markdown",
   "id": "bdc7a3b9",
   "metadata": {},
   "source": [
    "Покажите, что прямая, построенная по методу МНК, всегда проходит через точку $(\\bar{x}, \\bar{y})$, где $\\bar{x}$ и $\\bar{y}$ - выборочные средние. Обобщите на случай многомерной регрессии.\n",
    "\n"
   ]
  },
  {
   "cell_type": "markdown",
   "id": "ac1318ae",
   "metadata": {},
   "source": [
    "$$\n",
    "\\check{y} = ax + b\\\\\n",
    "\\mathcal{L} = \\suml (y_i - ax_i - b)^2\n",
    "$$"
   ]
  },
  {
   "cell_type": "markdown",
   "id": "2b6687f5",
   "metadata": {},
   "source": [
    "$$\n",
    "d \\mathcal{L} = \\suml 2(y_i - ax_i - b)(- x_i d a - d b) = 0\\\\\n",
    "\\suml y_i - ax_i - b = 0 \\Rightarrow\n",
    "b = \\frac{1}{l}\\suml y_i - ax_i\\\\\n",
    "$$"
   ]
  },
  {
   "cell_type": "markdown",
   "id": "d41bfe9b",
   "metadata": {},
   "source": [
    "$$\n",
    "\\mathcal{L} = \\suml (y_i - ax_i + \\frac{1}{l}(y_i - ax_i))^2 = \\frac{l+1}{l}\\suml (y_i - ax_i)^2\\\\\n",
    "$$"
   ]
  },
  {
   "cell_type": "markdown",
   "id": "b7ba86a8",
   "metadata": {},
   "source": [
    "$$\n",
    "\\frac{d \\mathcal{L}}{d a} = -\\frac{2(l+1)}{l} \\suml (y_i - ax_i)x_i = 0 \\Rightarrow \n",
    "a = \\frac{\\suml x_iy_i}{\\suml x_i^2}; \\; \n",
    "b = \\frac{1}{l}\\left(\\suml y_i - \\frac{\\suml x_iy_i \\suml x_i}{\\suml x_i^2}\\right)\n",
    "$$"
   ]
  },
  {
   "cell_type": "markdown",
   "id": "1520ccc2",
   "metadata": {},
   "source": [
    "$$\n",
    "\\check{y} = \\frac{\\suml x_iy_i}{\\suml x_i^2}x + \n",
    "\\frac{1}{l}\\left(\\suml y_i - \\frac{\\suml x_iy_i \\suml x_i}{\\suml x_i^2}\\right)\n",
    "$$"
   ]
  },
  {
   "cell_type": "markdown",
   "id": "bf53d7c8",
   "metadata": {},
   "source": [
    "$$\n",
    "\\check{y}\\left(\\frac{1}{l}\\suml x_i\\right) = \\frac{1}{l}\\suml y_i\n",
    "$$\n",
    "В многомерном случае сложно че-то"
   ]
  },
  {
   "cell_type": "markdown",
   "id": "259db9ad",
   "metadata": {},
   "source": [
    "**Практическое задание.**"
   ]
  },
  {
   "cell_type": "markdown",
   "id": "27e2c112",
   "metadata": {},
   "source": [
    "Для четырех выборок из квартета Энскомба вычислите выборочные дисперсии $x$ и $y$ \n",
    "координат, а также коэффициент линейной корреляции Пирсона. Изобразите выборки на графиках. \n",
    "Данные можно получить в системе јuруter с помощью библиотеки seaborn, вызвав метод load_dataset('anscombe')."
   ]
  },
  {
   "cell_type": "code",
   "execution_count": 10,
   "id": "a6c83f75",
   "metadata": {},
   "outputs": [],
   "source": [
    "import seaborn\n",
    "\n",
    "df = seaborn.load_dataset('anscombe')"
   ]
  },
  {
   "cell_type": "code",
   "execution_count": 19,
   "id": "d8f97e2d",
   "metadata": {},
   "outputs": [
    {
     "data": {
      "text/html": [
       "<div>\n",
       "<style scoped>\n",
       "    .dataframe tbody tr th:only-of-type {\n",
       "        vertical-align: middle;\n",
       "    }\n",
       "\n",
       "    .dataframe tbody tr th {\n",
       "        vertical-align: top;\n",
       "    }\n",
       "\n",
       "    .dataframe thead th {\n",
       "        text-align: right;\n",
       "    }\n",
       "</style>\n",
       "<table border=\"1\" class=\"dataframe\">\n",
       "  <thead>\n",
       "    <tr style=\"text-align: right;\">\n",
       "      <th></th>\n",
       "      <th>x</th>\n",
       "      <th>y</th>\n",
       "    </tr>\n",
       "    <tr>\n",
       "      <th>dataset</th>\n",
       "      <th></th>\n",
       "      <th></th>\n",
       "    </tr>\n",
       "  </thead>\n",
       "  <tbody>\n",
       "    <tr>\n",
       "      <th>I</th>\n",
       "      <td>11.0</td>\n",
       "      <td>4.127269</td>\n",
       "    </tr>\n",
       "    <tr>\n",
       "      <th>II</th>\n",
       "      <td>11.0</td>\n",
       "      <td>4.127629</td>\n",
       "    </tr>\n",
       "    <tr>\n",
       "      <th>III</th>\n",
       "      <td>11.0</td>\n",
       "      <td>4.122620</td>\n",
       "    </tr>\n",
       "    <tr>\n",
       "      <th>IV</th>\n",
       "      <td>11.0</td>\n",
       "      <td>4.123249</td>\n",
       "    </tr>\n",
       "  </tbody>\n",
       "</table>\n",
       "</div>"
      ],
      "text/plain": [
       "            x         y\n",
       "dataset                \n",
       "I        11.0  4.127269\n",
       "II       11.0  4.127629\n",
       "III      11.0  4.122620\n",
       "IV       11.0  4.123249"
      ]
     },
     "execution_count": 19,
     "metadata": {},
     "output_type": "execute_result"
    }
   ],
   "source": [
    "df.groupby('dataset').var()"
   ]
  },
  {
   "cell_type": "code",
   "execution_count": 20,
   "id": "1794143e",
   "metadata": {},
   "outputs": [
    {
     "data": {
      "text/html": [
       "<div>\n",
       "<style scoped>\n",
       "    .dataframe tbody tr th:only-of-type {\n",
       "        vertical-align: middle;\n",
       "    }\n",
       "\n",
       "    .dataframe tbody tr th {\n",
       "        vertical-align: top;\n",
       "    }\n",
       "\n",
       "    .dataframe thead th {\n",
       "        text-align: right;\n",
       "    }\n",
       "</style>\n",
       "<table border=\"1\" class=\"dataframe\">\n",
       "  <thead>\n",
       "    <tr style=\"text-align: right;\">\n",
       "      <th></th>\n",
       "      <th></th>\n",
       "      <th>x</th>\n",
       "      <th>y</th>\n",
       "    </tr>\n",
       "    <tr>\n",
       "      <th>dataset</th>\n",
       "      <th></th>\n",
       "      <th></th>\n",
       "      <th></th>\n",
       "    </tr>\n",
       "  </thead>\n",
       "  <tbody>\n",
       "    <tr>\n",
       "      <th rowspan=\"2\" valign=\"top\">I</th>\n",
       "      <th>x</th>\n",
       "      <td>1.000000</td>\n",
       "      <td>0.816421</td>\n",
       "    </tr>\n",
       "    <tr>\n",
       "      <th>y</th>\n",
       "      <td>0.816421</td>\n",
       "      <td>1.000000</td>\n",
       "    </tr>\n",
       "    <tr>\n",
       "      <th rowspan=\"2\" valign=\"top\">II</th>\n",
       "      <th>x</th>\n",
       "      <td>1.000000</td>\n",
       "      <td>0.816237</td>\n",
       "    </tr>\n",
       "    <tr>\n",
       "      <th>y</th>\n",
       "      <td>0.816237</td>\n",
       "      <td>1.000000</td>\n",
       "    </tr>\n",
       "    <tr>\n",
       "      <th rowspan=\"2\" valign=\"top\">III</th>\n",
       "      <th>x</th>\n",
       "      <td>1.000000</td>\n",
       "      <td>0.816287</td>\n",
       "    </tr>\n",
       "    <tr>\n",
       "      <th>y</th>\n",
       "      <td>0.816287</td>\n",
       "      <td>1.000000</td>\n",
       "    </tr>\n",
       "    <tr>\n",
       "      <th rowspan=\"2\" valign=\"top\">IV</th>\n",
       "      <th>x</th>\n",
       "      <td>1.000000</td>\n",
       "      <td>0.816521</td>\n",
       "    </tr>\n",
       "    <tr>\n",
       "      <th>y</th>\n",
       "      <td>0.816521</td>\n",
       "      <td>1.000000</td>\n",
       "    </tr>\n",
       "  </tbody>\n",
       "</table>\n",
       "</div>"
      ],
      "text/plain": [
       "                  x         y\n",
       "dataset                      \n",
       "I       x  1.000000  0.816421\n",
       "        y  0.816421  1.000000\n",
       "II      x  1.000000  0.816237\n",
       "        y  0.816237  1.000000\n",
       "III     x  1.000000  0.816287\n",
       "        y  0.816287  1.000000\n",
       "IV      x  1.000000  0.816521\n",
       "        y  0.816521  1.000000"
      ]
     },
     "execution_count": 20,
     "metadata": {},
     "output_type": "execute_result"
    }
   ],
   "source": [
    "df.groupby('dataset').corr()"
   ]
  },
  {
   "cell_type": "code",
   "execution_count": 24,
   "id": "3f1841f8",
   "metadata": {},
   "outputs": [
    {
     "data": {
      "text/plain": [
       "dataset\n",
       "I      Axes(0.125,0.11;0.775x0.77)\n",
       "II     Axes(0.125,0.11;0.775x0.77)\n",
       "III    Axes(0.125,0.11;0.775x0.77)\n",
       "IV     Axes(0.125,0.11;0.775x0.77)\n",
       "dtype: object"
      ]
     },
     "execution_count": 24,
     "metadata": {},
     "output_type": "execute_result"
    },
    {
     "data": {
      "image/png": "[encoded data removed]",
      "text/plain": [
       "<Figure size 640x480 with 1 Axes>"
      ]
     },
     "metadata": {},
     "output_type": "display_data"
    },
    {
     "data": {
      "image/png": "[encoded data removed]",
      "text/plain": [
       "<Figure size 640x480 with 1 Axes>"
      ]
     },
     "metadata": {},
     "output_type": "display_data"
    },
    {
     "data": {
      "image/png": "[encoded data removed]",
      "text/plain": [
       "<Figure size 640x480 with 1 Axes>"
      ]
     },
     "metadata": {},
     "output_type": "display_data"
    },
    {
     "data": {
      "image/png": "[encoded data removed]",
      "text/plain": [
       "<Figure size 640x480 with 1 Axes>"
      ]
     },
     "metadata": {},
     "output_type": "display_data"
    }
   ],
   "source": [
    "df.groupby('dataset').plot(x='x', y='y', kind='scatter')"
   ]
  },
  {
   "cell_type": "markdown",
   "id": "01cb5d24",
   "metadata": {},
   "source": [
    "# 3. Геометрический смысл псевдообратной матрицы."
   ]
  },
  {
   "cell_type": "markdown",
   "id": "08d0b6f1",
   "metadata": {},
   "source": [
    "На лекции обсуждалось, что метод наименьших квадратов - это способ поставить задачу о решении переопределенной системы \n",
    "$Xw = y$, которая имеет явный ответ, выражающийся через левую псевдообратную матрицу для X. \n",
    "Для недоопределенной системы $Xw = y$ (имеющей бесконечно много решений, объектов меньше, чем признаков) \n",
    "можно поставить задачу о поиске решения с минимальной $l_2$-нормой весов $\\|w\\|^2= w^Tw$. \n",
    "Решите такую задачу и покажите, что ответ выражается через правую псевдообратную матрицу для $X$. \n",
    "Считайте, что прямоугольная матрица $X$ имеет полный ранг (максимально возможный)."
   ]
  },
  {
   "cell_type": "markdown",
   "id": "c7d42b04",
   "metadata": {},
   "source": [
    "$$\n",
    "\\mathcal{L} = \\|w\\|^2 + \\lambda (y - Xw) = w_{i}w_{i} + \\lambda_i(y_i - X_{ij}w_j) \\\\\n",
    "\\frac{\\partial \\mathcal{L}}{\\partial w_k} = 2w_k - \\lambda_iX_{ik} = 0\n",
    "\\Rightarrow w_k = \\frac{1}{2}\\lambda_i X_{ik}\\\\\n",
    "\\frac{\\partial \\mathcal{L}}{\\partial \\lambda_k} = y_k - X_{kj}w_j = 0\n",
    "\\Rightarrow y_k = X_{kj}w_j\n",
    "$$"
   ]
  },
  {
   "cell_type": "markdown",
   "id": "9b1baa39",
   "metadata": {},
   "source": [
    "$$\n",
    "y_k = \\frac{1}{2}X_{kj}X_{ij}\\lambda_i; \\; y = \\frac{1}{2}XX^T\\lambda; \\; \\lambda = 2\\left(XX^T\\right)^{-1}y\n",
    "$$"
   ]
  },
  {
   "cell_type": "markdown",
   "id": "35b02c89",
   "metadata": {},
   "source": [
    "$$\n",
    "w = \\frac{1}{2}X^T\\lambda = X^T\\left(XX^T\\right)^{-1}y\n",
    "$$"
   ]
  },
  {
   "cell_type": "markdown",
   "id": "7122a097",
   "metadata": {},
   "source": [
    "# 4. Матрица объект-признак."
   ]
  },
  {
   "cell_type": "markdown",
   "id": "57089c19",
   "metadata": {},
   "source": [
    "**Теоретический вопрос 1.**"
   ]
  },
  {
   "cell_type": "markdown",
   "id": "8d9cce21",
   "metadata": {},
   "source": [
    "Пусть $X$ - матрица объект-признак (размерность $l \\times F$), для которой сингулярное разложение имеет вид\n",
    "$X = V\\sqrt{\\Lambda}U^T$. После понижения размерности данных с помощью метода главных компонент, в диагональной матрице \n",
    "$\\Lambda = diag\\{\\lambda_1 \\geq \\cdot\\cdot\\cdot\\geq \\lambda_F\\}$ оставляются только $\\tilde{F}$\n",
    " наибольших сингулярных чисел: $\\tilde{\\Lambda} = diag\\{\\lambda_1 \\geq \\cdot \\cdot \\cdot \\geq \\lambda_{\\tilde{F}}\\}$\n",
    ". При этом данные, как правило, можно восстановить только с некоторой ошибкой: $\\tilde{X} = V\\sqrt{\\tilde{\\Lambda}}U^T \\neq X$. Покажите, что норма Фроббениуса ошибки выражается через сумму по оставшимся сингулярным числам:\n",
    "$$\n",
    "    \\frac{1}{l}\\|X-\\tilde{X}\\|_F^2 = \\sum\\limits_{i=\\tilde{F}+1}^F \\lambda_i\n",
    "$$"
   ]
  },
  {
   "cell_type": "markdown",
   "id": "dcaa2c7f",
   "metadata": {},
   "source": [
    "$$\n",
    "\\|X-\\tilde{X}\\|_F^2 = tr\\left((X-\\tilde{X})^\\dagger (X-\\tilde{X})\\right) = \n",
    "    tr\\left(X^\\dagger X  + \\tilde{X}^\\dagger \\tilde{X} - X^\\dagger \\tilde{X} - \\tilde{X}^\\dagger X\\right) = \\\\\n",
    "= tr\\left(U\\sqrt{\\Lambda}V^T V\\sqrt{\\Lambda}U^T \\right) +\n",
    "    tr\\left(U\\sqrt{\\tilde\\Lambda}V^T V\\sqrt{\\tilde\\Lambda}U^T\\right) -\n",
    "    tr\\left(U\\sqrt{\\Lambda}V^T V\\sqrt{\\tilde\\Lambda}U^T \\right) -\n",
    "    tr\\left(U\\sqrt{\\tilde\\Lambda}V^T V\\sqrt{\\Lambda}U^T \\right) = \\\\\n",
    "= tr\\left(\\Lambda\\right) + tr\\left(\\tilde\\Lambda\\right) - \n",
    "    2tr\\left(\\sqrt{\\Lambda \\tilde\\Lambda}\\right) =\n",
    "    \\sum\\limits_{i=1}^F \\lambda_i + \\sum\\limits_{i=1}^\\tilde{F} \\lambda_i - 2\\sum\\limits_{i=1}^\\tilde{F} \\lambda_i =\n",
    "    \\sum\\limits_{i=\\tilde{F}+1}^F \\lambda_i\n",
    "$$"
   ]
  },
  {
   "cell_type": "markdown",
   "id": "15ca9dd3",
   "metadata": {},
   "source": [
    "**Теоретический вопрос 2.**"
   ]
  },
  {
   "cell_type": "markdown",
   "id": "d9a64c4e",
   "metadata": {},
   "source": [
    "Покажите, что сингулярный вектор матрицы $X$, отвечающий наибольшему сингулярному числу, является решением задачи\n",
    "\n",
    "$$\n",
    "u = argmax_{\\|u\\|=1}(Xu)^2,\n",
    "$$\n",
    "\n",
    "где подразумевается матричное умножение $X$ на $u$."
   ]
  },
  {
   "cell_type": "markdown",
   "id": "de68d5fc",
   "metadata": {},
   "source": [
    "$$\n",
    "(Xu)^2 = u^TX^TXu = u^T U \\Sigma V^T  V\\Sigma U^T u = u^T U \\Sigma U^T u = \\left|w = U^T u\\right| = w^T \\Sigma w = \\\\\n",
    "= \\left|w = с_i s_i, \\, Us_i - сингулярные \\; векторы \\,(ортонормированные)\\right| =\n",
    "    \\sum\\limits_{i, j} c_ic_j s_i^T\\Sigma s_j = \\sum\\limits_{i, j} c_ic_j\\sigma_j(s_i, s_j) = \\sum\\limits_i c_i^2 \\sigma_i\n",
    "$$"
   ]
  },
  {
   "cell_type": "markdown",
   "id": "1b3017bc",
   "metadata": {},
   "source": [
    "$$\n",
    "\\|u\\|^2 = \\|Uw\\|^2 = w^T U^T U w = w^T w = \\sum_i c_i^2\n",
    "$$"
   ]
  },
  {
   "cell_type": "markdown",
   "id": "1cde5531",
   "metadata": {},
   "source": [
    "$$\n",
    "\\frac{(Xu)^2}{\\|u\\|^2} = \\frac{\\sum\\limits_i c_i^2\\sigma_i}{\\sum\\limits_i c_i^2}\n",
    "    \\Rightarrow \\sup\\limits_{\\|u\\|=1} (Xu)^2 = \\sup\\limits_{u} \\frac{(Xu)^2}{\\|u\\|^2} = \\sigma_{max},\n",
    "    \\, достигается \\, при \\, c_i \\sim \\delta_{im}, \\quad \\sigma_m := \\sigma_{max}\n",
    "$$\n",
    "<center>То есть максимум достигается для сингулярного вектора $u$ c максимальным сингулярным числом</center>"
   ]
  },
  {
   "cell_type": "markdown",
   "id": "8f3080c9",
   "metadata": {},
   "source": [
    "**Практическое задание.**"
   ]
  },
  {
   "cell_type": "markdown",
   "id": "4a2d5505",
   "metadata": {},
   "source": [
    "Сгенерируйте случайную симметричную матрицу $A$ размера $3 \\times 3$. Сгенерируйте $N$ элементов из \n",
    "нормального распределения $P \\propto e^{-x^TAx}$ (получится матрица объект-признак $X$ размерности $N \\times 3$). \n",
    "Визуализируйте полученное облако точек (для построения интерактивных трехмерных графиков можно воспользоваться пакетом ipyml в системе jupyter). Примените к матрице $X$ метод главных компонент, визуализируйте сингулярные вектора вместе с облаком точек, а также двумерные проекции элементов выборки на плоскости, задаваемые сингулярными векторами."
   ]
  },
  {
   "cell_type": "code",
   "execution_count": null,
   "id": "e70dce34",
   "metadata": {},
   "outputs": [],
   "source": []
  }
 ],
 "metadata": {
  "kernelspec": {
   "display_name": "Python 3 (ipykernel)",
   "language": "python",
   "name": "python3"
  },
  "language_info": {
   "codemirror_mode": {
    "name": "ipython",
    "version": 3
   },
   "file_extension": ".py",
   "mimetype": "text/x-python",
   "name": "python",
   "nbconvert_exporter": "python",
   "pygments_lexer": "ipython3",
   "version": "3.11.5"
  }
 },
 "nbformat": 4,
 "nbformat_minor": 5
}
